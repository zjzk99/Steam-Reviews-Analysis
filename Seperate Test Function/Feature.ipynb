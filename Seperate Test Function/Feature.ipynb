{
 "cells": [
  {
   "cell_type": "code",
   "execution_count": 5,
   "metadata": {},
   "outputs": [
    {
     "name": "stdout",
     "output_type": "stream",
     "text": [
      "Topic 0:\n",
      "[('plenty side', 132.2828678816968), ('tough opponent', 126.82672750479561), ('reviewer participate', 106.001695727162), ('advanced beta', 100.95591763788345), ('much magic', 97.46107958322085), ('certain enemy', 69.97405748608946), ('dull i', 66.12593878881988), ('certain ability', 59.22440362815999), ('special get', 58.044298751392006), ('kill thing', 56.57469414989552), ('great attack', 51.723872230660255), ('initial introduction', 47.47876079402863), ('replenish turn', 46.367363769384134), ('particular skill', 45.879466331037634), ('first act', 45.708073974109645), ('good someday', 45.6195465080732), ('enough make', 45.02096915497249), ('environmental status', 41.69890757781668), ('classic mode', 41.34467258397585), ('multiple enemy', 41.020385102991106)]\n",
      "\n",
      "\n",
      "Topic 1:\n",
      "[('html note', 239.26711195393622), ('simple idea', 181.47224415462733), ('bad trailer', 136.42634777700994), ('allow farm', 131.8975289825392), ('decent nothing', 117.3196675230409), ('euros thing', 109.43647424118134), ('usage particle', 83.96747998270111), ('first minute', 71.50604605293807), ('due limitation', 71.01342487015154), ('fight part', 70.4033624581616), ('many bug', 65.69975771676764), ('sufficient scaffold', 64.98393131366339), ('armor quality', 60.942813153168025), ('frozen stun', 56.50884453796401), ('early access', 54.56961508213819), ('clear detail', 52.203472026170004), ('single quest', 51.20734761017036), ('avoid battle', 50.13230405102245), ('possible battle', 40.63340966179505), ('boring play', 0.25378092637572575)]\n",
      "\n",
      "\n",
      "Topic 2:\n",
      "[('final bos', 203.96747349110572), ('choose word', 136.09790932613055), ('new player', 115.78644515156189), ('com divinity', 71.92638351164469), ('suppose jump', 71.07544558533834), ('give surprising', 65.35396600361818), ('full review', 64.33016712064662), ('second refund', 63.69556250022164), ('dull way', 61.38347623729287), ('update version', 61.02563401992151), ('loot require', 60.634582170247256), ('enough power', 58.53594726429162), ('slow interact', 48.88189348107163), ('tutorial battle', 47.616229013881906), ('enemy distance', 44.92810877065587), ('quick note', 43.730077955049275), ('first divinity', 41.29239449300832), ('pyrotechnic surface', 0.25656165111520146), ('decent nothing', 0.25604814953990923), ('awesome movie', 0.2548147505725157)]\n",
      "\n",
      "\n",
      "Topic 3:\n",
      "[('early access', 162.99018073045903), ('awesome movie', 124.09591629129724), ('boring play', 92.62992693225662), ('implement i', 84.69463920380292), ('avoidable everything', 82.45492864512563), ('enemy start', 80.69932840145631), ('starter ability', 63.489347134788574), ('wide selection', 57.843071461046584), ('classic hour', 55.8330795122074), ('initiate possibility', 55.42475588257037), ('voice-acting ambient', 53.67893554764839), ('lush jungle', 52.489537987117004), ('ap future', 52.207395912233004), ('best see', 48.03225844338926), ('whole movie', 47.63022672195256), ('current state', 46.189269822971184), ('final version', 43.85414831639133), ('great bit', 42.476891935144366), ('right spoil', 41.209381481613214), ('pyrotechnic surface', 36.64505031532709)]\n",
      "\n",
      "\n"
     ]
    }
   ],
   "source": [
    "from IPython.core.interactiveshell import InteractiveShell\n",
    "InteractiveShell.ast_node_interactivity = \"all\"\n",
    "import nltk\n",
    "import pandas as pd\n",
    "from nltk.corpus import stopwords\n",
    "from sklearn.model_selection import train_test_split\n",
    "from sklearn.feature_extraction.text import CountVectorizer\n",
    "from sklearn.decomposition import LatentDirichletAllocation\n",
    "\n",
    "def lda():\n",
    "    #read data\n",
    "    df = pd.read_csv(\"BIA-660 Project Data Subset.csv\")\n",
    "    #choose reviews that at least one player think it is helpful\n",
    "    docs = df[(df.recommend_or_not == \"Not Recommended\") & (df.helpful != \"0\")].review\n",
    "    text = []\n",
    "    tagged_tokens = []\n",
    "    #tokenize each review and give each token a Part of Speech tag\n",
    "    for doc in docs:\n",
    "        tokens=nltk.word_tokenize(doc)\n",
    "        temp_tokens= nltk.pos_tag(tokens)\n",
    "        for x in temp_tokens:\n",
    "            tagged_tokens.append(x)\n",
    "    #use tagged tokens to get bigrams\n",
    "    bigrams=list(nltk.bigrams(tagged_tokens))\n",
    "    for (x,y) in bigrams:\n",
    "        if x[1].startswith('J') and y[1].startswith('N'):\n",
    "            text.append(x[0] + \" \" + y[0])\n",
    "    stop_words = stopwords.words('english')\n",
    "    \n",
    "    tf_vectorizer = CountVectorizer(max_df=0.90, min_df=50, stop_words = stop_words)\n",
    "    tf = tf_vectorizer.fit_transform(text)\n",
    "    tf_feature_names = text\n",
    "    #split dataset into train (80%) and test sets (20%)\n",
    "    X_train, X_test = train_test_split(tf, test_size=0.2, random_state=0)\n",
    "    #set topic number to 4\n",
    "    num_topics = 4\n",
    "    lda = LatentDirichletAllocation(n_components=num_topics, \\\n",
    "                                learning_method='online', \\\n",
    "                                max_iter=10,verbose=0, n_jobs=1,\n",
    "                                random_state=0).fit(X_train)\n",
    "    #choose top 20 words per topic\n",
    "    num_top_words = 20\n",
    "    #print out results\n",
    "    for topic_idx, topic in enumerate(lda.components_):\n",
    "        print (\"Topic %d:\" % (topic_idx))\n",
    "        words=[(tf_feature_names[i],topic[i]) for i in topic.argsort()[::-1][0:num_top_words]]\n",
    "        print(words)\n",
    "        print(\"\\n\")\n",
    "    \n",
    "if __name__ == \"__main__\":\n",
    "    lda()\n"
   ]
  },
  {
   "cell_type": "code",
   "execution_count": null,
   "metadata": {},
   "outputs": [],
   "source": []
  },
  {
   "cell_type": "code",
   "execution_count": null,
   "metadata": {},
   "outputs": [],
   "source": []
  }
 ],
 "metadata": {
  "kernelspec": {
   "display_name": "Python 3",
   "language": "python",
   "name": "python3"
  },
  "language_info": {
   "codemirror_mode": {
    "name": "ipython",
    "version": 3
   },
   "file_extension": ".py",
   "mimetype": "text/x-python",
   "name": "python",
   "nbconvert_exporter": "python",
   "pygments_lexer": "ipython3",
   "version": "3.6.6"
  }
 },
 "nbformat": 4,
 "nbformat_minor": 2
}
