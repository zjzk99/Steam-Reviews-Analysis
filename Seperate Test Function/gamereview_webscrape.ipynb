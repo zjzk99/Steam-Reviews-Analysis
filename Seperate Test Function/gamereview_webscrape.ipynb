{
 "cells": [
  {
   "cell_type": "code",
   "execution_count": 1,
   "metadata": {},
   "outputs": [],
   "source": [
    "# Author: Kai Zhang\n",
    "# Stevens Institute of Technology\n",
    "\n",
    "from selenium import webdriver\n",
    "from selenium.webdriver.common.by import By\n",
    "from selenium.webdriver.support.ui import WebDriverWait\n",
    "from selenium.webdriver.support import expected_conditions\n",
    "import time\n",
    "\n",
    "executable_path = 'F:\\geckodriver'\n",
    "\n",
    "driver = webdriver.Firefox(executable_path=executable_path)\n",
    "\n",
    "driver.get('https://steamcommunity.com/app/435150/reviews/?p=1&browsefilter=toprated')\n",
    "\n",
    "src_updated = driver.page_source\n",
    "src = \"\"\n",
    "\n",
    "for i in range(0,190):\n",
    "    if src != src_updated:\n",
    "        # save page source (i.e. html document) before page-down\n",
    "        src = src_updated\n",
    "        # execute javascript to scroll to the bottom of the window\n",
    "        # you can also use page-down\n",
    "        driver.execute_script(\"window.scrollTo(0, document.body.scrollHeight);\")\n",
    "        # sleep to allow content loaded\n",
    "        time.sleep(1)\n",
    "        # save page source after page-down\n",
    "        src_updated = driver.page_source\n",
    "\n",
    "\n",
    "# What can we get about the reviews from Steam?\n",
    "\n",
    "# The review content, post date, how many people think this review helpful or funny"
   ]
  },
  {
   "cell_type": "code",
   "execution_count": 2,
   "metadata": {},
   "outputs": [
    {
     "name": "stdout",
     "output_type": "stream",
     "text": [
      "Total reviews scraped:  1198 1198\n"
     ]
    }
   ],
   "source": [
    "review_content=[]\n",
    "usefuls=[]\n",
    "\n",
    "for i in range(1,191):\n",
    "    # get all Q&A list using XPATH locator\n",
    "    lists=driver.find_elements_by_xpath(\"//div[@id='page%d']/div\"%i)\n",
    "#     print(\"//div[@id='page%d']/div\"%i)\n",
    "#     print(\"page%d pairs: \"%i,len(lists))\n",
    "    \n",
    "    for idx,item in enumerate(lists):    \n",
    "    # each Q&A pair has an unique ID\n",
    "        div_id=item.get_attribute(\"id\")\n",
    "        content_css=\"div#\"+div_id+\" \"+\"div.apphub_UserReviewCardContent div.apphub_CardTextContent\"\n",
    "        useful_css=\"div#\"+div_id+\" \"+\"div.apphub_UserReviewCardContent div.found_helpful\"\n",
    "        \n",
    "        review=driver.find_element_by_css_selector(content_css)\n",
    "        useful=driver.find_element_by_css_selector(useful_css)\n",
    "        review_content.append(review.text)\n",
    "        usefuls.append(useful.text)\n",
    "\n",
    "print(\"Total reviews scraped: \", len(review_content), len(usefuls))\n",
    "# print(review_content[0])\n",
    "# print(usefuls[0])"
   ]
  },
  {
   "cell_type": "code",
   "execution_count": 8,
   "metadata": {},
   "outputs": [],
   "source": [
    "import pandas as pd\n",
    "import nltk\n",
    "import re\n",
    "\n",
    "reviews =[]\n",
    "dates = []\n",
    "\n",
    "# print(type(data[0]),str(data[0]))\n",
    "\n",
    "for line in review_content:\n",
    "    sentence = line.split(\"\\n\")\n",
    "    date = re.sub(r\"Posted:\",\" \",sentence[0]).strip()\n",
    "    review = re.sub(r\"Posted:.*\",\" \",line)\n",
    "    review = re.sub(r\"\\s+\",\" \",review).strip() \n",
    "    reviews.append(review)\n",
    "    dates.append(date)\n",
    "    \n",
    "# print(\"date:\",dates[0])\n",
    "# print(\"content:\",reviews[0])\n",
    "\n",
    "\n",
    "\n",
    "df = pd.DataFrame()\n",
    "df[\"review\"] = reviews\n",
    "df[\"post_date\"] = dates\n",
    "df[\"useful\"] = usefuls\n",
    "df.to_csv('game_review.csv',index=True)"
   ]
  },
  {
   "cell_type": "code",
   "execution_count": null,
   "metadata": {},
   "outputs": [],
   "source": []
  },
  {
   "cell_type": "code",
   "execution_count": null,
   "metadata": {},
   "outputs": [],
   "source": []
  }
 ],
 "metadata": {
  "kernelspec": {
   "display_name": "Python 3",
   "language": "python",
   "name": "python3"
  },
  "language_info": {
   "codemirror_mode": {
    "name": "ipython",
    "version": 3
   },
   "file_extension": ".py",
   "mimetype": "text/x-python",
   "name": "python",
   "nbconvert_exporter": "python",
   "pygments_lexer": "ipython3",
   "version": "3.6.7"
  }
 },
 "nbformat": 4,
 "nbformat_minor": 2
}
