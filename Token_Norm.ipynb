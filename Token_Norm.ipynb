{
 "cells": [
  {
   "cell_type": "code",
   "execution_count": 23,
   "metadata": {},
   "outputs": [],
   "source": [
    "import pandas as pd\n",
    "import nltk\n",
    "import string\n",
    "from nltk.corpus import stopwords\n",
    "from nltk.stem import WordNetLemmatizer \n",
    "from nltk.corpus import wordnet\n",
    "\n",
    "stop_words = stopwords.words('english')\n",
    "wordnet_lemmatizer = WordNetLemmatizer()\n",
    "data = pd.read_csv(\"game_review(1200).csv\", header=0)\n",
    "review = data[\"review\"].values.tolist()\n",
    "pattern = r'\\w[\\w\\'-]*\\w'\n",
    "\n",
    "def get_wordnet_pos(pos_tag):\n",
    "    if pos_tag.startswith('J'):\n",
    "        return wordnet.ADJ\n",
    "    elif pos_tag.startswith('V'):\n",
    "        return wordnet.VERB\n",
    "    elif pos_tag.startswith('N'):\n",
    "        return wordnet.NOUN\n",
    "    elif pos_tag.startswith('R'):\n",
    "        return wordnet.ADV\n",
    "    else:\n",
    "        return wordnet.NOUN\n",
    "\n",
    "    \n",
    "init_reviews = []\n",
    "for doc in review:\n",
    "    doc = doc.lower()\n",
    "    tokens = nltk.regexp_tokenize(doc, pattern)\n",
    "    tagged_tokens= nltk.pos_tag(tokens)\n",
    "    lemmatized_words=[wordnet_lemmatizer.lemmatize(word, get_wordnet_pos(tag)) \\\n",
    "          for (word, tag) in tagged_tokens \\\n",
    "          if word not in stop_words and word not in string.punctuation]\n",
    "    temp_str = \"\"\n",
    "    for item in lemmatized_words:\n",
    "        temp_str = temp_str + \" \" + item\n",
    "    init_reviews.append(temp_str[1:])\n",
    "    \n",
    "df = pd.DataFrame()\n",
    "df[\"review\"] = init_reviews\n",
    "df[\"post_date\"] = data[\"post_date\"].values.tolist()\n",
    "df[\"useful\"] = data[\"useful\"].values.tolist()\n",
    "df.to_csv('tokened_normed_review.csv',index=True)"
   ]
  },
  {
   "cell_type": "code",
   "execution_count": null,
   "metadata": {},
   "outputs": [],
   "source": []
  }
 ],
 "metadata": {
  "kernelspec": {
   "display_name": "Python 3",
   "language": "python",
   "name": "python3"
  },
  "language_info": {
   "codemirror_mode": {
    "name": "ipython",
    "version": 3
   },
   "file_extension": ".py",
   "mimetype": "text/x-python",
   "name": "python",
   "nbconvert_exporter": "python",
   "pygments_lexer": "ipython3",
   "version": "3.6.7"
  }
 },
 "nbformat": 4,
 "nbformat_minor": 2
}
